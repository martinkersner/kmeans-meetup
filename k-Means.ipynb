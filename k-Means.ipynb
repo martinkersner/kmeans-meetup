{
 "cells": [
  {
   "cell_type": "markdown",
   "metadata": {
    "slideshow": {
     "slide_type": "slide"
    }
   },
   "source": [
    "# k-Means\n",
    "\n",
    "## Seoul AI Meetup, July 22\n",
    "\n",
    "Martin Kersner, <m.kersner@gmail.com>"
   ]
  },
  {
   "cell_type": "code",
   "execution_count": 1,
   "metadata": {
    "collapsed": true,
    "slideshow": {
     "slide_type": "skip"
    }
   },
   "outputs": [],
   "source": [
    "from __future__ import division\n",
    "import numpy as np\n",
    "import scipy\n",
    "import pandas as pd\n",
    "\n",
    "%matplotlib inline\n",
    "import matplotlib\n",
    "import matplotlib.pyplot as plt"
   ]
  },
  {
   "cell_type": "markdown",
   "metadata": {
    "slideshow": {
     "slide_type": "slide"
    }
   },
   "source": [
    "## Theory \n",
    "\n",
    "https://en.wikipedia.org/wiki/K-means_clustering\n",
    "\n",
    "* Unsupervised learning\n",
    "* Clustering algorithm\n",
    "* Iterative technique\n",
    "* **Does not guarantee convergence to optimal solution.**"
   ]
  },
  {
   "cell_type": "markdown",
   "metadata": {
    "slideshow": {
     "slide_type": "slide"
    }
   },
   "source": [
    "### Algorithm\n",
    "\n",
    "0. Initialize $k$ centroids (= cluster centers).\n",
    "1. Assignment step\n",
    "    * Assign each observation (= data record) to the **closest** centroid.\n",
    "2. Update step\n",
    "    * Compute new centroids (using $mean$) from assigned observations.\n",
    "3. Repeat step 2 and 3 until convergence"
   ]
  },
  {
   "cell_type": "markdown",
   "metadata": {
    "slideshow": {
     "slide_type": "subslide"
    }
   },
   "source": [
    "### Intitialization\n",
    "\n",
    "* Randomly (within data domain)\n",
    "* [k-Means++](https://en.wikipedia.org/wiki/K-means%2B%2B)"
   ]
  },
  {
   "cell_type": "code",
   "execution_count": 2,
   "metadata": {
    "collapsed": true,
    "slideshow": {
     "slide_type": "skip"
    }
   },
   "outputs": [],
   "source": [
    "# Modified version of https://stackoverflow.com/a/5468119\n",
    "def kmeanspp(X, K):\n",
    "    C = X[0:1, :] # the first cluster equals to the first data point\n",
    "    \n",
    "    for k in range(1, K):\n",
    "        D2 = scipy.array([min([scipy.inner(C[c_idx, :]-x,C[c_idx, :]-x) for c_idx in range(C.shape[0])]) for x in X])\n",
    "        \n",
    "        probs = D2/D2.sum()\n",
    "        cumprobs = probs.cumsum()\n",
    "        r = scipy.rand()\n",
    "        \n",
    "        for j,p in enumerate(cumprobs):\n",
    "            if r < p:\n",
    "                i = j\n",
    "                break\n",
    "\n",
    "        C = np.concatenate((C, [X[i, :]]), axis=0)\n",
    "        \n",
    "    return C"
   ]
  },
  {
   "cell_type": "markdown",
   "metadata": {
    "slideshow": {
     "slide_type": "subslide"
    }
   },
   "source": [
    "### Similarity Distance Measures\n",
    "\n",
    "Selection of similarity distance measure depends on problem you are solving. Examples:\n",
    "\n",
    "* Euclidean\n",
    "* Manhattan\n",
    "* Cosine\n",
    "\n",
    "<center><img src=\"https://raw.githubusercontent.com/martinkersner/kmeans-meetup/master/files/simdist.png\" /></center>"
   ]
  },
  {
   "cell_type": "markdown",
   "metadata": {
    "slideshow": {
     "slide_type": "subslide"
    }
   },
   "source": [
    "#### Euclidean Distance\n",
    "\n",
    "https://en.wikipedia.org/wiki/Euclidean_distance\n",
    "\n",
    "$d(p, q) = \\sqrt{(p_{1}-q_{1})^2+(p_{2}-q_{2})^2 + ... + (p_{n}-q_{n})^2}$\n",
    "\n",
    "#### Manhattan Distance\n",
    "\n",
    "https://en.wikipedia.org/wiki/Taxicab_geometry\n",
    "\n",
    "$D(p, q) = \\sum_{i=1}^{n}{|p_{i}-q_{i}|}$\n",
    "\n",
    "#### Cosine Distance\n",
    "https://en.wikipedia.org/wiki/Cosine_similarity\n",
    "\n",
    "$D(p, q) = \\frac{\\sum_{i=1}^{n}{p_{i}q_{i}}}{\\sqrt{\\sum_{i=1}^{n}{p_{i}^{2}}}\\sqrt{\\sum_{i=1}^{n}{q_{i}^{2}}}}$"
   ]
  },
  {
   "cell_type": "markdown",
   "metadata": {
    "slideshow": {
     "slide_type": "subslide"
    }
   },
   "source": [
    "### Standardize Features\n",
    "\n",
    "If data are not normalized, features with larger range will dominate over features with smaller range.\n",
    "\n",
    "**Solution:** Standardize features by removing the mean and scaling to unit variance (e.g. [sklearn.preprocessing.StandardScaler](http://scikit-learn.org/stable/modules/generated/sklearn.preprocessing.StandardScaler.html))\n",
    "\n",
    "```python\n",
    "X = np.random.rand(100, 3) # generate randomly 100 3-dimensional features\n",
    "scaler = StandardScaler().fit(X) # standardize features\n",
    "X_norm = scaler.transform(X)\n",
    "\n",
    "print(np.mean(X_norm, axis=0)) # mean is 0\n",
    ">>> [ -4.50750548e-16  -1.59872116e-16   5.72653036e-16]\n",
    "print(np.std(X_norm, axis=0)) # standard deviation is 1\n",
    ">>> [ 1.  1.  1.]\n",
    "```"
   ]
  },
  {
   "cell_type": "markdown",
   "metadata": {
    "slideshow": {
     "slide_type": "subslide"
    }
   },
   "source": [
    "### Terminal conditions\n",
    "\n",
    "* Maximum number of iterations\n",
    "* Minimal changes in location of centroids\n",
    "\n",
    "### Replication\n",
    "\n",
    "k-Means **does not guarantee convergence to optimal solution**, therefore each run can end up differently. For this reason, k-means algorithm is run several times and each run is evaluated using **within-cluster point-to-centroid distances**. Clustering with the smallest distances is selected as solution."
   ]
  },
  {
   "cell_type": "markdown",
   "metadata": {
    "slideshow": {
     "slide_type": "slide"
    }
   },
   "source": [
    "## k-Means visualization\n",
    "\n",
    "\n",
    "<center><img src=\"https://raw.githubusercontent.com/martinkersner/kmeans-meetup/master/files/k_means_convergence.gif\" /></center>"
   ]
  },
  {
   "cell_type": "markdown",
   "metadata": {
    "slideshow": {
     "slide_type": "slide"
    }
   },
   "source": [
    "## Examples\n",
    "\n",
    "Couple of examples using k-Means in real projects."
   ]
  },
  {
   "cell_type": "markdown",
   "metadata": {
    "slideshow": {
     "slide_type": "subslide"
    }
   },
   "source": [
    "### HD map clustering\n",
    "\n",
    "<center><img src=\"https://raw.githubusercontent.com/martinkersner/kmeans-meetup/master/files/hdmap.png\" style=\"width: 50%; height: 50%;\"/></center>"
   ]
  },
  {
   "cell_type": "markdown",
   "metadata": {
    "slideshow": {
     "slide_type": "subslide"
    }
   },
   "source": [
    "### Customer clustering\n",
    "\n",
    "* Average number of visits\n",
    "* Average number of purchased items\n",
    "\n",
    "<center><img src=\"https://raw.githubusercontent.com/martinkersner/kmeans-meetup/master/files/coffeecoupon.png\" style=\"width: 40%; height: 40%\"/></center>"
   ]
  },
  {
   "cell_type": "markdown",
   "metadata": {
    "slideshow": {
     "slide_type": "slide"
    }
   },
   "source": [
    "## Data set"
   ]
  },
  {
   "cell_type": "code",
   "execution_count": 3,
   "metadata": {
    "collapsed": true,
    "slideshow": {
     "slide_type": "skip"
    }
   },
   "outputs": [],
   "source": [
    "# Simple data set\n",
    "X_train = np.array([[1, 2], [1, 4], [1, 0],\n",
    "                    [4, 2], [4, 4], [4, 0]])\n",
    "X_test = np.array([[0, 0], [4, 5]])\n",
    "\n",
    "# Data visualization\n",
    "def plot_train_test_data(train, test):\n",
    "    # Green data used for clustering\n",
    "    plt.scatter(train[:,0], train[:,1], c=\"g\")\n",
    "\n",
    "    # Blue data are new data prediction\n",
    "    plt.scatter(test[:, 0], test[:, 1], c=\"b\")\n",
    "    \n",
    "def plot_train_test_center(train, test, center):\n",
    "    # Green data used for clustering\n",
    "    plt.scatter(train[:,0], train[:,1], c=\"g\")\n",
    "\n",
    "    # Blue data are new data prediction\n",
    "    plt.scatter(test[:, 0], test[:, 1], c=\"b\")\n",
    "    \n",
    "    # Red data are cluster centers\n",
    "    plt.scatter(center[:, 0], center[:, 1], c=\"r\")"
   ]
  },
  {
   "cell_type": "code",
   "execution_count": 4,
   "metadata": {
    "scrolled": true,
    "slideshow": {
     "slide_type": "-"
    }
   },
   "outputs": [
    {
     "data": {
      "image/png": "[encoded data removed]",
      "text/plain": [
       "<matplotlib.figure.Figure at 0x7f9799077510>"
      ]
     },
     "metadata": {},
     "output_type": "display_data"
    }
   ],
   "source": [
    "plot_train_test_data(X_train, X_test)"
   ]
  },
  {
   "cell_type": "markdown",
   "metadata": {
    "slideshow": {
     "slide_type": "slide"
    }
   },
   "source": [
    "## Scikit-Learn\n",
    "\n",
    "http://scikit-learn.org/stable/modules/generated/sklearn.cluster.KMeans.html\n",
    "\n",
    "```python\n",
    "class sklearn.cluster.KMeans(n_clusters=8, init='k-means++',\n",
    "                             n_init=10, max_iter=300,\n",
    "                             tol=0.0001, precompute_distances='auto',\n",
    "                             verbose=0, random_state=None,\n",
    "                             copy_x=True, n_jobs=1,\n",
    "                             algorithm='auto')\n",
    "```"
   ]
  },
  {
   "cell_type": "code",
   "execution_count": 5,
   "metadata": {
    "collapsed": true,
    "slideshow": {
     "slide_type": "subslide"
    }
   },
   "outputs": [],
   "source": [
    "# Example usage of KMeans in Scikit-Learn\n",
    "from sklearn.cluster import KMeans as KMeansScikit\n",
    "\n",
    "kmeans = KMeansScikit(n_clusters=2, random_state=0).fit(X_train)"
   ]
  },
  {
   "cell_type": "code",
   "execution_count": 6,
   "metadata": {
    "slideshow": {
     "slide_type": "subslide"
    }
   },
   "outputs": [
    {
     "data": {
      "text/plain": [
       "array([0, 0, 0, 1, 1, 1], dtype=int32)"
      ]
     },
     "execution_count": 6,
     "metadata": {},
     "output_type": "execute_result"
    }
   ],
   "source": [
    "# The first 3 points belong to the first cluster.\n",
    "# The rest belong the the second cluster.\n",
    "kmeans.labels_"
   ]
  },
  {
   "cell_type": "code",
   "execution_count": 7,
   "metadata": {
    "slideshow": {
     "slide_type": "subslide"
    }
   },
   "outputs": [
    {
     "data": {
      "text/plain": [
       "array([0, 1], dtype=int32)"
      ]
     },
     "execution_count": 7,
     "metadata": {},
     "output_type": "execute_result"
    }
   ],
   "source": [
    "kmeans.predict(X_test)"
   ]
  },
  {
   "cell_type": "code",
   "execution_count": 8,
   "metadata": {
    "scrolled": true,
    "slideshow": {
     "slide_type": "subslide"
    }
   },
   "outputs": [
    {
     "data": {
      "text/plain": [
       "array([[ 1.,  2.],\n",
       "       [ 4.,  2.]])"
      ]
     },
     "execution_count": 8,
     "metadata": {},
     "output_type": "execute_result"
    },
    {
     "data": {
      "image/png": "[encoded data removed]",
      "text/plain": [
       "<matplotlib.figure.Figure at 0x7f978a69c310>"
      ]
     },
     "metadata": {},
     "output_type": "display_data"
    }
   ],
   "source": [
    "# green train data\n",
    "# blue test data\n",
    "# red cluster centers\n",
    "plot_train_test_center(X_train, X_test, kmeans.cluster_centers_)\n",
    "kmeans.cluster_centers_"
   ]
  },
  {
   "cell_type": "markdown",
   "metadata": {
    "slideshow": {
     "slide_type": "slide"
    }
   },
   "source": [
    "## Our implementation\n",
    "\n",
    "```python\n",
    "class KMeans(n_clusters=8,\n",
    "             init='random',\n",
    "             n_init=10,\n",
    "             max_iter=300,\n",
    "             tol=0.0001)\n",
    "```"
   ]
  },
  {
   "cell_type": "code",
   "execution_count": 9,
   "metadata": {
    "collapsed": true,
    "slideshow": {
     "slide_type": "slide"
    }
   },
   "outputs": [],
   "source": [
    "class KMeans:\n",
    "    def __init__(self, n_clusters=8, init=\"random\", n_init=10, max_iter=300, tol=0.0001):\n",
    "        if n_clusters < 2:\n",
    "            raise ValueError(\"n_clusters < 2\")\n",
    "            \n",
    "        self.n_clusters = n_clusters\n",
    "        self.init       = init\n",
    "        self.n_init     = n_init\n",
    "        self.max_iter   = max_iter\n",
    "        self.tol        = tol        \n",
    "        \n",
    "        self.cluster_centers_ = []\n",
    "        self.labels_          = []\n",
    "        \n",
    "        # sum of distances of samples to their closest cluster center\n",
    "        self.inertia_         = 0\n",
    "        \n",
    "    def fit(self, X):\n",
    "        pass # TODO\n",
    "    \n",
    "    def predict(self, X):\n",
    "        pass # TODO"
   ]
  },
  {
   "cell_type": "markdown",
   "metadata": {
    "slideshow": {
     "slide_type": "slide"
    }
   },
   "source": [
    "### Cluster simple dataset"
   ]
  },
  {
   "cell_type": "code",
   "execution_count": 10,
   "metadata": {
    "collapsed": true,
    "slideshow": {
     "slide_type": "-"
    }
   },
   "outputs": [],
   "source": [
    "# kmeans = KMeans(n_clusters=2).fit(X_train)\n",
    "# kmeans.labels_\n",
    "# plot_train_test_center(X_train, X_test, kmeans.cluster_centers_)\n",
    "# kmeans.cluster_centers_\n",
    "# kmeans.predict(X_test)"
   ]
  },
  {
   "cell_type": "markdown",
   "metadata": {
    "slideshow": {
     "slide_type": "slide"
    }
   },
   "source": [
    "### Cluster harder dataset"
   ]
  },
  {
   "cell_type": "code",
   "execution_count": 11,
   "metadata": {
    "scrolled": false,
    "slideshow": {
     "slide_type": "-"
    }
   },
   "outputs": [
    {
     "data": {
      "image/png": "[encoded data removed]",
      "text/plain": [
       "<matplotlib.figure.Figure at 0x7f9789f24e10>"
      ]
     },
     "metadata": {},
     "output_type": "display_data"
    }
   ],
   "source": [
    "from pandas.plotting import scatter_matrix\n",
    "df = pd.read_csv(\"dataset.csv\", header=-1) # 3-dimensional dataset\n",
    "scatter_matrix(df, alpha=0.9, figsize=(6, 6))\n",
    "\n",
    "# use for clustering\n",
    "X_harder = np.array(df)"
   ]
  }
 ],
 "metadata": {
  "celltoolbar": "Slideshow",
  "kernelspec": {
   "display_name": "Python 2",
   "language": "python",
   "name": "python2"
  },
  "language_info": {
   "codemirror_mode": {
    "name": "ipython",
    "version": 2
   },
   "file_extension": ".py",
   "mimetype": "text/x-python",
   "name": "python",
   "nbconvert_exporter": "python",
   "pygments_lexer": "ipython2",
   "version": "2.7.13"
  }
 },
 "nbformat": 4,
 "nbformat_minor": 2
}
